{
 "cells": [
  {
   "cell_type": "code",
   "execution_count": 15,
   "metadata": {},
   "outputs": [
    {
     "name": "stdout",
     "output_type": "stream",
     "text": [
      "Optimization terminated successfully.\n",
      "         Current function value: 0.558663\n",
      "         Iterations 6\n"
     ]
    }
   ],
   "source": [
    "import pandas as pd\n",
    "import itertools\n",
    "from statsmodels.formula.api import mnlogit\n",
    "import matplotlib.pyplot as plt\n",
    "\n",
    "# Read the data file\n",
    "data = pd.read_csv('data/conjoint.csv')\n",
    "# Assuming the data file has been read into a DataFrame named data\n",
    "\n",
    "# Assuming the rest of the data preparation is the same\n",
    "data[\"seat\"] = pd.Categorical(data[\"seat\"])\n",
    "data[\"cargo\"] = pd.Categorical(data[\"cargo\"])\n",
    "data[\"eng\"] = pd.Categorical(data[\"eng\"])\n",
    "data[\"price\"] = pd.Categorical(data[\"price\"])\n",
    "data['price_numeric'] = pd.to_numeric(data['price'], errors='coerce')\n",
    "\n",
    "m2_formula = 'choice ~ 0 + seat + cargo + eng + price_numeric'\n",
    "m2 = mnlogit(formula=m2_formula, data=data).fit()\n",
    "\n",
    "\n"
   ]
  },
  {
   "cell_type": "code",
   "execution_count": 16,
   "metadata": {},
   "outputs": [],
   "source": [
    "def predict_shares(model, df):\n",
    "    \"\"\"\n",
    "    Predict choice probabilities for each alternative in the dataframe `df` using the fitted model `model`.\n",
    "    \"\"\"\n",
    "    # Use the model's predict method directly, which expects the exogenous variables in the correct format\n",
    "    probs = model.predict(df)\n",
    "    # Assuming the choice probabilities are for each row in `df`\n",
    "    return probs\n",
    "\n",
    "def sensitivity_mnl(model, attrib, base_data, competitor_data):\n",
    "    # Concatenate base and competitor data\n",
    "    full_data = pd.concat([base_data, competitor_data], ignore_index=True)\n",
    "\n",
    "    # Assuming base_data has the structure expected by the model (correct dummy variables, etc.)\n",
    "    # We can modify this base data to explore different attribute levels\n",
    "    results = []\n",
    "\n",
    "    for attr, levels in attrib.items():\n",
    "        for level in levels:\n",
    "            # Modify the attribute level in a copy of the base_data\n",
    "            modified_data = base_data.copy()\n",
    "            modified_data[attr] = level\n",
    "            # Predict shares using the modified data\n",
    "            shares = predict_shares(model, modified_data)[1]\n",
    "            \n",
    "            # Calculate the increase in share compared to the base\n",
    "            base_share = predict_shares(model, base_data)[1]\n",
    "            increase = shares - base_share\n",
    "\n",
    "            results.append({\n",
    "                'level': level,\n",
    "                'share': shares.mean(),  # Assuming you want the average share across all alternatives\n",
    "                'increase': increase.mean()  # Average increase\n",
    "            })\n",
    "\n",
    "    return pd.DataFrame(results)\n",
    "\n"
   ]
  },
  {
   "cell_type": "code",
   "execution_count": 17,
   "metadata": {},
   "outputs": [],
   "source": [
    "columns = ['seat', 'cargo', 'eng', 'price_numeric']\n",
    "\n",
    "# Get all combinations of the values in the columns\n",
    "combinations = list(itertools.product(*[data[col].unique() for col in columns]))\n",
    "\n",
    "# Print each combination\n",
    "combinations_df = pd.DataFrame(combinations, columns=columns)\n",
    "base_data = combinations_df.iloc[0, :]\n",
    "competitor_data = combinations_df.iloc[10:20, :]"
   ]
  },
  {
   "cell_type": "code",
   "execution_count": 19,
   "metadata": {},
   "outputs": [],
   "source": [
    "base_data_df = pd.DataFrame([base_data], columns=data.columns)\n",
    "\n",
    "base_data_df[\"seat\"] = pd.Categorical(base_data_df[\"seat\"], categories=[6, 7, 8])\n",
    "base_data_df[\"cargo\"] = pd.Categorical(base_data_df[\"cargo\"], categories=['2ft', '3ft'])\n",
    "base_data_df[\"eng\"] = pd.Categorical(base_data_df[\"eng\"], categories=['elec', 'gas', 'hyb'])\n",
    "base_data_df[\"price\"] = pd.Categorical(base_data_df[\"price\"], categories=[30, 35, 40])\n",
    "\n",
    "alternative_data_df = pd.DataFrame(competitor_data, columns=data.columns)\n",
    "\n",
    "alternative_data_df['seat'] = pd.Categorical(alternative_data_df['seat'], categories=[6, 7, 8])\n",
    "alternative_data_df['cargo'] = pd.Categorical(alternative_data_df['cargo'], categories=['2ft', '3ft'])\n",
    "alternative_data_df['eng'] = pd.Categorical(alternative_data_df['eng'], categories=['elec', 'gas', 'hyb'])\n",
    "alternative_data_df['price'] = pd.Categorical(alternative_data_df['price'], categories=[30, 35, 40])"
   ]
  },
  {
   "cell_type": "code",
   "execution_count": 20,
   "metadata": {},
   "outputs": [],
   "source": [
    "# Define the attributes for the sensitivity analysis\n",
    "attrib = {\n",
    "    'seat': [6, 7, 8],\n",
    "    'cargo': ['2ft', '3ft'],\n",
    "    'eng': ['elec', 'gas', 'hyb'],\n",
    "    'price_numeric': [30, 35, 40]  \n",
    "}\n",
    "\n",
    "# Calculate the sensitivity\n",
    "sensitivity_results = sensitivity_mnl(m2, attrib, base_data_df, alternative_data_df)\n"
   ]
  },
  {
   "cell_type": "code",
   "execution_count": 22,
   "metadata": {},
   "outputs": [
    {
     "data": {
      "text/html": [
       "<div>\n",
       "<style scoped>\n",
       "    .dataframe tbody tr th:only-of-type {\n",
       "        vertical-align: middle;\n",
       "    }\n",
       "\n",
       "    .dataframe tbody tr th {\n",
       "        vertical-align: top;\n",
       "    }\n",
       "\n",
       "    .dataframe thead th {\n",
       "        text-align: right;\n",
       "    }\n",
       "</style>\n",
       "<table border=\"1\" class=\"dataframe\">\n",
       "  <thead>\n",
       "    <tr style=\"text-align: right;\">\n",
       "      <th></th>\n",
       "      <th>resp.id</th>\n",
       "      <th>ques</th>\n",
       "      <th>alt</th>\n",
       "      <th>carpool</th>\n",
       "      <th>seat</th>\n",
       "      <th>cargo</th>\n",
       "      <th>eng</th>\n",
       "      <th>price</th>\n",
       "      <th>choice</th>\n",
       "      <th>price_numeric</th>\n",
       "    </tr>\n",
       "  </thead>\n",
       "  <tbody>\n",
       "    <tr>\n",
       "      <th>0</th>\n",
       "      <td>NaN</td>\n",
       "      <td>NaN</td>\n",
       "      <td>NaN</td>\n",
       "      <td>NaN</td>\n",
       "      <td>6</td>\n",
       "      <td>2ft</td>\n",
       "      <td>gas</td>\n",
       "      <td>NaN</td>\n",
       "      <td>NaN</td>\n",
       "      <td>35</td>\n",
       "    </tr>\n",
       "  </tbody>\n",
       "</table>\n",
       "</div>"
      ],
      "text/plain": [
       "   resp.id  ques  alt  carpool seat cargo  eng price  choice  price_numeric\n",
       "0      NaN   NaN  NaN      NaN    6   2ft  gas   NaN     NaN             35"
      ]
     },
     "execution_count": 22,
     "metadata": {},
     "output_type": "execute_result"
    }
   ],
   "source": [
    "base_data_df"
   ]
  },
  {
   "cell_type": "code",
   "execution_count": 21,
   "metadata": {},
   "outputs": [
    {
     "data": {
      "image/png": "[encoded data removed]",
      "text/plain": [
       "<Figure size 1000x600 with 1 Axes>"
      ]
     },
     "metadata": {},
     "output_type": "display_data"
    }
   ],
   "source": [
    "sensitivity_results['level'] = sensitivity_results['level'].astype(str) # converting to string for plotting\n",
    "plt.figure(figsize=(10, 6))\n",
    "plt.bar(sensitivity_results['level'], sensitivity_results['increase'])\n",
    "plt.xlabel('Level')\n",
    "plt.ylabel('Increase')\n",
    "plt.title('Increase by Level')\n",
    "plt.axhline(y=0, color='black', linewidth=0.5)\n",
    "plt.xticks(rotation=45)\n",
    "plt.show()\n",
    "\n",
    "\n"
   ]
  },
  {
   "cell_type": "code",
   "execution_count": null,
   "metadata": {},
   "outputs": [],
   "source": []
  }
 ],
 "metadata": {
  "kernelspec": {
   "display_name": "book-mkt-analytics",
   "language": "python",
   "name": "python3"
  },
  "language_info": {
   "codemirror_mode": {
    "name": "ipython",
    "version": 3
   },
   "file_extension": ".py",
   "mimetype": "text/x-python",
   "name": "python",
   "nbconvert_exporter": "python",
   "pygments_lexer": "ipython3",
   "version": "3.11.3"
  }
 },
 "nbformat": 4,
 "nbformat_minor": 2
}
