{
 "cells": [
  {
   "cell_type": "code",
   "execution_count": 1,
   "metadata": {},
   "outputs": [],
   "source": [
    "import pandas as pd\n",
    "import numpy as np\n",
    "import statsmodels.api as sm\n",
    "import statsmodels.formula.api as smf"
   ]
  },
  {
   "cell_type": "code",
   "execution_count": 2,
   "metadata": {},
   "outputs": [
    {
     "name": "stdout",
     "output_type": "stream",
     "text": [
      "2.0.2\n",
      "1.24.4\n",
      "0.14.0\n"
     ]
    }
   ],
   "source": [
    "print(pd.__version__)\n",
    "print(np.__version__)\n",
    "print(sm.__version__)"
   ]
  },
  {
   "cell_type": "code",
   "execution_count": 3,
   "metadata": {},
   "outputs": [
    {
     "data": {
      "text/html": [
       "<div>\n",
       "<style scoped>\n",
       "    .dataframe tbody tr th:only-of-type {\n",
       "        vertical-align: middle;\n",
       "    }\n",
       "\n",
       "    .dataframe tbody tr th {\n",
       "        vertical-align: top;\n",
       "    }\n",
       "\n",
       "    .dataframe thead th {\n",
       "        text-align: right;\n",
       "    }\n",
       "</style>\n",
       "<table border=\"1\" class=\"dataframe\">\n",
       "  <thead>\n",
       "    <tr style=\"text-align: right;\">\n",
       "      <th></th>\n",
       "      <th>resp.id</th>\n",
       "      <th>ques</th>\n",
       "      <th>alt</th>\n",
       "      <th>carpool</th>\n",
       "      <th>seat</th>\n",
       "      <th>cargo</th>\n",
       "      <th>eng</th>\n",
       "      <th>price</th>\n",
       "      <th>choice</th>\n",
       "    </tr>\n",
       "  </thead>\n",
       "  <tbody>\n",
       "    <tr>\n",
       "      <th>0</th>\n",
       "      <td>1</td>\n",
       "      <td>1</td>\n",
       "      <td>1</td>\n",
       "      <td>yes</td>\n",
       "      <td>6</td>\n",
       "      <td>2ft</td>\n",
       "      <td>gas</td>\n",
       "      <td>35</td>\n",
       "      <td>0</td>\n",
       "    </tr>\n",
       "    <tr>\n",
       "      <th>1</th>\n",
       "      <td>1</td>\n",
       "      <td>1</td>\n",
       "      <td>2</td>\n",
       "      <td>yes</td>\n",
       "      <td>8</td>\n",
       "      <td>3ft</td>\n",
       "      <td>hyb</td>\n",
       "      <td>30</td>\n",
       "      <td>0</td>\n",
       "    </tr>\n",
       "    <tr>\n",
       "      <th>2</th>\n",
       "      <td>1</td>\n",
       "      <td>1</td>\n",
       "      <td>3</td>\n",
       "      <td>yes</td>\n",
       "      <td>6</td>\n",
       "      <td>3ft</td>\n",
       "      <td>gas</td>\n",
       "      <td>30</td>\n",
       "      <td>1</td>\n",
       "    </tr>\n",
       "    <tr>\n",
       "      <th>3</th>\n",
       "      <td>1</td>\n",
       "      <td>2</td>\n",
       "      <td>1</td>\n",
       "      <td>yes</td>\n",
       "      <td>6</td>\n",
       "      <td>2ft</td>\n",
       "      <td>gas</td>\n",
       "      <td>30</td>\n",
       "      <td>0</td>\n",
       "    </tr>\n",
       "    <tr>\n",
       "      <th>4</th>\n",
       "      <td>1</td>\n",
       "      <td>2</td>\n",
       "      <td>2</td>\n",
       "      <td>yes</td>\n",
       "      <td>7</td>\n",
       "      <td>3ft</td>\n",
       "      <td>gas</td>\n",
       "      <td>35</td>\n",
       "      <td>1</td>\n",
       "    </tr>\n",
       "  </tbody>\n",
       "</table>\n",
       "</div>"
      ],
      "text/plain": [
       "   resp.id  ques  alt carpool  seat cargo  eng  price  choice\n",
       "0        1     1    1     yes     6   2ft  gas     35       0\n",
       "1        1     1    2     yes     8   3ft  hyb     30       0\n",
       "2        1     1    3     yes     6   3ft  gas     30       1\n",
       "3        1     2    1     yes     6   2ft  gas     30       0\n",
       "4        1     2    2     yes     7   3ft  gas     35       1"
      ]
     },
     "execution_count": 3,
     "metadata": {},
     "output_type": "execute_result"
    }
   ],
   "source": [
    "data = pd.read_csv('data/conjoint.csv')\n",
    "data.head()"
   ]
  },
  {
   "cell_type": "code",
   "execution_count": 4,
   "metadata": {},
   "outputs": [
    {
     "data": {
      "text/html": [
       "<div>\n",
       "<style scoped>\n",
       "    .dataframe tbody tr th:only-of-type {\n",
       "        vertical-align: middle;\n",
       "    }\n",
       "\n",
       "    .dataframe tbody tr th {\n",
       "        vertical-align: top;\n",
       "    }\n",
       "\n",
       "    .dataframe thead th {\n",
       "        text-align: right;\n",
       "    }\n",
       "</style>\n",
       "<table border=\"1\" class=\"dataframe\">\n",
       "  <thead>\n",
       "    <tr style=\"text-align: right;\">\n",
       "      <th></th>\n",
       "      <th>resp.id</th>\n",
       "      <th>ques</th>\n",
       "      <th>alt</th>\n",
       "      <th>seat</th>\n",
       "      <th>price</th>\n",
       "      <th>choice</th>\n",
       "    </tr>\n",
       "  </thead>\n",
       "  <tbody>\n",
       "    <tr>\n",
       "      <th>count</th>\n",
       "      <td>9000.000000</td>\n",
       "      <td>9000.000000</td>\n",
       "      <td>9000.000000</td>\n",
       "      <td>9000.000000</td>\n",
       "      <td>9000.000000</td>\n",
       "      <td>9000.000000</td>\n",
       "    </tr>\n",
       "    <tr>\n",
       "      <th>mean</th>\n",
       "      <td>100.500000</td>\n",
       "      <td>8.000000</td>\n",
       "      <td>2.000000</td>\n",
       "      <td>6.995444</td>\n",
       "      <td>35.003889</td>\n",
       "      <td>0.333333</td>\n",
       "    </tr>\n",
       "    <tr>\n",
       "      <th>std</th>\n",
       "      <td>57.737513</td>\n",
       "      <td>4.320734</td>\n",
       "      <td>0.816542</td>\n",
       "      <td>0.817005</td>\n",
       "      <td>4.083728</td>\n",
       "      <td>0.471431</td>\n",
       "    </tr>\n",
       "    <tr>\n",
       "      <th>min</th>\n",
       "      <td>1.000000</td>\n",
       "      <td>1.000000</td>\n",
       "      <td>1.000000</td>\n",
       "      <td>6.000000</td>\n",
       "      <td>30.000000</td>\n",
       "      <td>0.000000</td>\n",
       "    </tr>\n",
       "    <tr>\n",
       "      <th>25%</th>\n",
       "      <td>50.750000</td>\n",
       "      <td>4.000000</td>\n",
       "      <td>1.000000</td>\n",
       "      <td>6.000000</td>\n",
       "      <td>30.000000</td>\n",
       "      <td>0.000000</td>\n",
       "    </tr>\n",
       "    <tr>\n",
       "      <th>50%</th>\n",
       "      <td>100.500000</td>\n",
       "      <td>8.000000</td>\n",
       "      <td>2.000000</td>\n",
       "      <td>7.000000</td>\n",
       "      <td>35.000000</td>\n",
       "      <td>0.000000</td>\n",
       "    </tr>\n",
       "    <tr>\n",
       "      <th>75%</th>\n",
       "      <td>150.250000</td>\n",
       "      <td>12.000000</td>\n",
       "      <td>3.000000</td>\n",
       "      <td>8.000000</td>\n",
       "      <td>40.000000</td>\n",
       "      <td>1.000000</td>\n",
       "    </tr>\n",
       "    <tr>\n",
       "      <th>max</th>\n",
       "      <td>200.000000</td>\n",
       "      <td>15.000000</td>\n",
       "      <td>3.000000</td>\n",
       "      <td>8.000000</td>\n",
       "      <td>40.000000</td>\n",
       "      <td>1.000000</td>\n",
       "    </tr>\n",
       "  </tbody>\n",
       "</table>\n",
       "</div>"
      ],
      "text/plain": [
       "           resp.id         ques          alt         seat        price  \\\n",
       "count  9000.000000  9000.000000  9000.000000  9000.000000  9000.000000   \n",
       "mean    100.500000     8.000000     2.000000     6.995444    35.003889   \n",
       "std      57.737513     4.320734     0.816542     0.817005     4.083728   \n",
       "min       1.000000     1.000000     1.000000     6.000000    30.000000   \n",
       "25%      50.750000     4.000000     1.000000     6.000000    30.000000   \n",
       "50%     100.500000     8.000000     2.000000     7.000000    35.000000   \n",
       "75%     150.250000    12.000000     3.000000     8.000000    40.000000   \n",
       "max     200.000000    15.000000     3.000000     8.000000    40.000000   \n",
       "\n",
       "            choice  \n",
       "count  9000.000000  \n",
       "mean      0.333333  \n",
       "std       0.471431  \n",
       "min       0.000000  \n",
       "25%       0.000000  \n",
       "50%       0.000000  \n",
       "75%       1.000000  \n",
       "max       1.000000  "
      ]
     },
     "execution_count": 4,
     "metadata": {},
     "output_type": "execute_result"
    }
   ],
   "source": [
    "data.describe()"
   ]
  },
  {
   "cell_type": "code",
   "execution_count": 5,
   "metadata": {},
   "outputs": [
    {
     "data": {
      "text/html": [
       "<div>\n",
       "<style scoped>\n",
       "    .dataframe tbody tr th:only-of-type {\n",
       "        vertical-align: middle;\n",
       "    }\n",
       "\n",
       "    .dataframe tbody tr th {\n",
       "        vertical-align: top;\n",
       "    }\n",
       "\n",
       "    .dataframe thead th {\n",
       "        text-align: right;\n",
       "    }\n",
       "</style>\n",
       "<table border=\"1\" class=\"dataframe\">\n",
       "  <thead>\n",
       "    <tr style=\"text-align: right;\">\n",
       "      <th>choice</th>\n",
       "      <th>0</th>\n",
       "      <th>1</th>\n",
       "    </tr>\n",
       "    <tr>\n",
       "      <th>price</th>\n",
       "      <th></th>\n",
       "      <th></th>\n",
       "    </tr>\n",
       "  </thead>\n",
       "  <tbody>\n",
       "    <tr>\n",
       "      <th>30</th>\n",
       "      <td>1512</td>\n",
       "      <td>1486</td>\n",
       "    </tr>\n",
       "    <tr>\n",
       "      <th>35</th>\n",
       "      <td>2041</td>\n",
       "      <td>956</td>\n",
       "    </tr>\n",
       "    <tr>\n",
       "      <th>40</th>\n",
       "      <td>2447</td>\n",
       "      <td>558</td>\n",
       "    </tr>\n",
       "  </tbody>\n",
       "</table>\n",
       "</div>"
      ],
      "text/plain": [
       "choice     0     1\n",
       "price             \n",
       "30      1512  1486\n",
       "35      2041   956\n",
       "40      2447   558"
      ]
     },
     "execution_count": 5,
     "metadata": {},
     "output_type": "execute_result"
    }
   ],
   "source": [
    "pd.crosstab(data['price'], data['choice'])"
   ]
  },
  {
   "cell_type": "code",
   "execution_count": 6,
   "metadata": {},
   "outputs": [
    {
     "data": {
      "text/html": [
       "<div>\n",
       "<style scoped>\n",
       "    .dataframe tbody tr th:only-of-type {\n",
       "        vertical-align: middle;\n",
       "    }\n",
       "\n",
       "    .dataframe tbody tr th {\n",
       "        vertical-align: top;\n",
       "    }\n",
       "\n",
       "    .dataframe thead th {\n",
       "        text-align: right;\n",
       "    }\n",
       "</style>\n",
       "<table border=\"1\" class=\"dataframe\">\n",
       "  <thead>\n",
       "    <tr style=\"text-align: right;\">\n",
       "      <th>choice</th>\n",
       "      <th>0</th>\n",
       "      <th>1</th>\n",
       "    </tr>\n",
       "    <tr>\n",
       "      <th>cargo</th>\n",
       "      <th></th>\n",
       "      <th></th>\n",
       "    </tr>\n",
       "  </thead>\n",
       "  <tbody>\n",
       "    <tr>\n",
       "      <th>2ft</th>\n",
       "      <td>3189</td>\n",
       "      <td>1312</td>\n",
       "    </tr>\n",
       "    <tr>\n",
       "      <th>3ft</th>\n",
       "      <td>2811</td>\n",
       "      <td>1688</td>\n",
       "    </tr>\n",
       "  </tbody>\n",
       "</table>\n",
       "</div>"
      ],
      "text/plain": [
       "choice     0     1\n",
       "cargo             \n",
       "2ft     3189  1312\n",
       "3ft     2811  1688"
      ]
     },
     "execution_count": 6,
     "metadata": {},
     "output_type": "execute_result"
    }
   ],
   "source": [
    "pd.crosstab(data['cargo'], data['choice'])"
   ]
  },
  {
   "cell_type": "code",
   "execution_count": 7,
   "metadata": {},
   "outputs": [
    {
     "data": {
      "text/html": [
       "<div>\n",
       "<style scoped>\n",
       "    .dataframe tbody tr th:only-of-type {\n",
       "        vertical-align: middle;\n",
       "    }\n",
       "\n",
       "    .dataframe tbody tr th {\n",
       "        vertical-align: top;\n",
       "    }\n",
       "\n",
       "    .dataframe thead th {\n",
       "        text-align: right;\n",
       "    }\n",
       "</style>\n",
       "<table border=\"1\" class=\"dataframe\">\n",
       "  <thead>\n",
       "    <tr style=\"text-align: right;\">\n",
       "      <th></th>\n",
       "      <th>resp.id</th>\n",
       "      <th>ques</th>\n",
       "      <th>alt</th>\n",
       "      <th>carpool</th>\n",
       "      <th>seat</th>\n",
       "      <th>cargo</th>\n",
       "      <th>eng</th>\n",
       "      <th>price</th>\n",
       "      <th>choice</th>\n",
       "    </tr>\n",
       "  </thead>\n",
       "  <tbody>\n",
       "    <tr>\n",
       "      <th>0</th>\n",
       "      <td>1</td>\n",
       "      <td>1</td>\n",
       "      <td>1</td>\n",
       "      <td>yes</td>\n",
       "      <td>6</td>\n",
       "      <td>2ft</td>\n",
       "      <td>gas</td>\n",
       "      <td>35</td>\n",
       "      <td>0</td>\n",
       "    </tr>\n",
       "    <tr>\n",
       "      <th>1</th>\n",
       "      <td>1</td>\n",
       "      <td>1</td>\n",
       "      <td>2</td>\n",
       "      <td>yes</td>\n",
       "      <td>8</td>\n",
       "      <td>3ft</td>\n",
       "      <td>hyb</td>\n",
       "      <td>30</td>\n",
       "      <td>0</td>\n",
       "    </tr>\n",
       "    <tr>\n",
       "      <th>2</th>\n",
       "      <td>1</td>\n",
       "      <td>1</td>\n",
       "      <td>3</td>\n",
       "      <td>yes</td>\n",
       "      <td>6</td>\n",
       "      <td>3ft</td>\n",
       "      <td>gas</td>\n",
       "      <td>30</td>\n",
       "      <td>1</td>\n",
       "    </tr>\n",
       "    <tr>\n",
       "      <th>3</th>\n",
       "      <td>1</td>\n",
       "      <td>2</td>\n",
       "      <td>1</td>\n",
       "      <td>yes</td>\n",
       "      <td>6</td>\n",
       "      <td>2ft</td>\n",
       "      <td>gas</td>\n",
       "      <td>30</td>\n",
       "      <td>0</td>\n",
       "    </tr>\n",
       "    <tr>\n",
       "      <th>4</th>\n",
       "      <td>1</td>\n",
       "      <td>2</td>\n",
       "      <td>2</td>\n",
       "      <td>yes</td>\n",
       "      <td>7</td>\n",
       "      <td>3ft</td>\n",
       "      <td>gas</td>\n",
       "      <td>35</td>\n",
       "      <td>1</td>\n",
       "    </tr>\n",
       "  </tbody>\n",
       "</table>\n",
       "</div>"
      ],
      "text/plain": [
       "   resp.id  ques  alt carpool seat cargo  eng price  choice\n",
       "0        1     1    1     yes    6   2ft  gas    35       0\n",
       "1        1     1    2     yes    8   3ft  hyb    30       0\n",
       "2        1     1    3     yes    6   3ft  gas    30       1\n",
       "3        1     2    1     yes    6   2ft  gas    30       0\n",
       "4        1     2    2     yes    7   3ft  gas    35       1"
      ]
     },
     "execution_count": 7,
     "metadata": {},
     "output_type": "execute_result"
    }
   ],
   "source": [
    "# Convert categorical variables to dummy variables\n",
    "data[\"seat\"] = pd.Categorical(data[\"seat\"])\n",
    "data[\"cargo\"] = pd.Categorical(data[\"cargo\"])\n",
    "data[\"eng\"] = pd.Categorical(data[\"eng\"])\n",
    "data[\"price\"] = pd.Categorical(data[\"price\"])\n",
    "data.head()"
   ]
  },
  {
   "cell_type": "code",
   "execution_count": 8,
   "metadata": {},
   "outputs": [
    {
     "data": {
      "text/plain": [
       "Index([30, 35, 40], dtype='int64')"
      ]
     },
     "execution_count": 8,
     "metadata": {},
     "output_type": "execute_result"
    }
   ],
   "source": [
    "data['price'].cat.categories"
   ]
  },
  {
   "cell_type": "code",
   "execution_count": 9,
   "metadata": {},
   "outputs": [
    {
     "name": "stdout",
     "output_type": "stream",
     "text": [
      "Optimization terminated successfully.\n",
      "         Current function value: 0.558645\n",
      "         Iterations 6\n",
      "                          MNLogit Regression Results                          \n",
      "==============================================================================\n",
      "Dep. Variable:                 choice   No. Observations:                 9000\n",
      "Model:                        MNLogit   Df Residuals:                     8992\n",
      "Method:                           MLE   Df Model:                            7\n",
      "Date:                Fri, 22 Mar 2024   Pseudo R-squ.:                  0.1223\n",
      "Time:                        09:22:02   Log-Likelihood:                -5027.8\n",
      "converged:                       True   LL-Null:                       -5728.6\n",
      "Covariance Type:            nonrobust   LLR p-value:                1.702e-298\n",
      "================================================================================\n",
      "    choice=1       coef    std err          z      P>|z|      [0.025      0.975]\n",
      "--------------------------------------------------------------------------------\n",
      "seat[6]         -0.6688      0.067     -9.908      0.000      -0.801      -0.536\n",
      "seat[7]         -1.1939      0.070    -17.058      0.000      -1.331      -1.057\n",
      "seat[8]         -0.9617      0.069    -13.938      0.000      -1.097      -0.826\n",
      "cargo[T.3ft]     0.4386      0.049      9.005      0.000       0.343       0.534\n",
      "eng[T.gas]       1.4353      0.062     23.218      0.000       1.314       1.556\n",
      "eng[T.hyb]       0.6748      0.063     10.720      0.000       0.551       0.798\n",
      "price[T.35]     -0.8223      0.056    -14.562      0.000      -0.933      -0.712\n",
      "price[T.40]     -1.5866      0.063    -25.359      0.000      -1.709      -1.464\n",
      "================================================================================\n"
     ]
    }
   ],
   "source": [
    "# Model 1: Without intercept\n",
    "m1_formula = 'choice ~  0 + seat + cargo + eng + price'\n",
    "m1 = smf.mnlogit(formula=m1_formula, data=data).fit()\n",
    "print(m1.summary())\n",
    "\n",
    "\n"
   ]
  },
  {
   "cell_type": "code",
   "execution_count": 10,
   "metadata": {},
   "outputs": [
    {
     "name": "stdout",
     "output_type": "stream",
     "text": [
      "Optimization terminated successfully.\n",
      "         Current function value: 0.558663\n",
      "         Iterations 6\n",
      "                          MNLogit Regression Results                          \n",
      "==============================================================================\n",
      "Dep. Variable:                 choice   No. Observations:                 9000\n",
      "Model:                        MNLogit   Df Residuals:                     8993\n",
      "Method:                           MLE   Df Model:                            6\n",
      "Date:                Fri, 22 Mar 2024   Pseudo R-squ.:                  0.1223\n",
      "Time:                        09:22:02   Log-Likelihood:                -5028.0\n",
      "converged:                       True   LL-Null:                       -5728.6\n",
      "Covariance Type:            nonrobust   LLR p-value:                1.252e-299\n",
      "=================================================================================\n",
      "     choice=1       coef    std err          z      P>|z|      [0.025      0.975]\n",
      "---------------------------------------------------------------------------------\n",
      "seat[6]           4.0975      0.217     18.861      0.000       3.672       4.523\n",
      "seat[7]           3.5727      0.216     16.579      0.000       3.150       3.995\n",
      "seat[8]           3.8044      0.216     17.604      0.000       3.381       4.228\n",
      "cargo[T.3ft]      0.4385      0.049      9.004      0.000       0.343       0.534\n",
      "eng[T.gas]        1.4347      0.062     23.217      0.000       1.314       1.556\n",
      "eng[T.hyb]        0.6742      0.063     10.715      0.000       0.551       0.798\n",
      "price_numeric    -0.1591      0.006    -25.616      0.000      -0.171      -0.147\n",
      "=================================================================================\n"
     ]
    }
   ],
   "source": [
    "# Model 2: With numeric conversion of price\n",
    "# First, ensure price is numeric in the DataFrame, this might require conversion\n",
    "# if 'price' is not already an appropriate numeric type.\n",
    "data['price_numeric'] = pd.to_numeric(data['price'], errors='coerce')\n",
    "\n",
    "m2_formula = 'choice ~ 0 + seat + cargo + eng + price_numeric'\n",
    "m2 = smf.mnlogit(formula=m2_formula, data=data).fit()\n",
    "print(m2.summary())"
   ]
  },
  {
   "cell_type": "code",
   "execution_count": 11,
   "metadata": {},
   "outputs": [
    {
     "data": {
      "text/plain": [
       "0    2755.802315\n",
       "dtype: float64"
      ]
     },
     "execution_count": 11,
     "metadata": {},
     "output_type": "execute_result"
    }
   ],
   "source": [
    "m2.params.loc['cargo[T.3ft]'] / (-m2.params.loc['price_numeric'] / 1000)"
   ]
  },
  {
   "cell_type": "code",
   "execution_count": 12,
   "metadata": {},
   "outputs": [
    {
     "data": {
      "text/plain": [
       "{'seat[6]': 4.097493799457214,\n",
       " 'seat[7]': 3.572742098004901,\n",
       " 'seat[8]': 3.804408972667818,\n",
       " 'cargo[T.3ft]': 0.4385383126937028,\n",
       " 'eng[T.gas]': 1.4346800159644666,\n",
       " 'eng[T.hyb]': 0.6741910088171773,\n",
       " 'price_numeric': -0.15913271800301496}"
      ]
     },
     "execution_count": 12,
     "metadata": {},
     "output_type": "execute_result"
    }
   ],
   "source": [
    "coeff = m2.params.to_dict()\n",
    "attrarray = {\n",
    "    'seat': ['seat[6]', 'seat[7]', 'seat[8]'],\n",
    "    'cargo': ['cargo[T.3ft]'],\n",
    "    'eng': ['eng[T.gas]', 'eng[T.hyb]'],\n",
    "    'price': ['price_numeric']\n",
    "}\n",
    "\n",
    "part_worth_utility = {}\n",
    "\n",
    "for attribute in attrarray:\n",
    "    for level in attrarray[attribute]:\n",
    "        part_worth_utility[level] = coeff[0][level]\n",
    "\n",
    "part_worth_utility"
   ]
  },
  {
   "cell_type": "code",
   "execution_count": 13,
   "metadata": {},
   "outputs": [
    {
     "data": {
      "text/plain": [
       "{'seat[6]': 25748.908526652467,\n",
       " 'seat[7]': 22451.33585877174,\n",
       " 'seat[8]': 23907.145057346024,\n",
       " 'cargo[T.3ft]': 2755.802315180679,\n",
       " 'eng[T.gas]': 9015.619377137044,\n",
       " 'eng[T.hyb]': 4236.658666286363}"
      ]
     },
     "execution_count": 13,
     "metadata": {},
     "output_type": "execute_result"
    }
   ],
   "source": [
    "willingness_to_pay = {}\n",
    "\n",
    "for attribute in part_worth_utility:\n",
    "    if attribute != 'price_numeric':\n",
    "        willingness_to_pay[attribute] = part_worth_utility[attribute] / (-part_worth_utility['price_numeric'] / 1000)\n",
    "\n",
    "willingness_to_pay"
   ]
  },
  {
   "cell_type": "code",
   "execution_count": 14,
   "metadata": {},
   "outputs": [
    {
     "data": {
      "text/plain": [
       "dict_keys(['seat[6]', 'seat[7]', 'seat[8]', 'cargo[T.3ft]', 'eng[T.gas]', 'eng[T.hyb]', 'price_numeric'])"
      ]
     },
     "execution_count": 14,
     "metadata": {},
     "output_type": "execute_result"
    }
   ],
   "source": [
    "part_worth_utility.keys()"
   ]
  },
  {
   "cell_type": "code",
   "execution_count": 15,
   "metadata": {},
   "outputs": [],
   "source": [
    "def sensitivity_mnl(model, attrib, base_data, competitor_data):\n",
    "    # Function for creating data for a share-sensitivity chart\n",
    "    # model: Logit object returned by Logit() function\n",
    "    # attrib: list of vectors with attribute levels to be used in sensitivity\n",
    "    # base_data: DataFrame containing baseline design of target product\n",
    "    # competitor_data: DataFrame containing design of competitive set\n",
    "\n",
    "    data = pd.concat([base_data, competitor_data])\n",
    "    base_share = model.predict(data.iloc[0, :])[0]\n",
    "    share = []\n",
    "    for a in range(len(attrib)):\n",
    "        for i in attrib[a]:\n",
    "            data.iloc[0, :] = base_data.iloc[0, :]\n",
    "            data.iloc[0, a] = i\n",
    "            share.append(model.predict(data.iloc[0, :])[0])\n",
    "    return pd.DataFrame({'level': np.concatenate(attrib), 'share': share, 'increase': np.array(share) - base_share})"
   ]
  },
  {
   "cell_type": "code",
   "execution_count": 16,
   "metadata": {},
   "outputs": [
    {
     "data": {
      "text/html": [
       "<div>\n",
       "<style scoped>\n",
       "    .dataframe tbody tr th:only-of-type {\n",
       "        vertical-align: middle;\n",
       "    }\n",
       "\n",
       "    .dataframe tbody tr th {\n",
       "        vertical-align: top;\n",
       "    }\n",
       "\n",
       "    .dataframe thead th {\n",
       "        text-align: right;\n",
       "    }\n",
       "</style>\n",
       "<table border=\"1\" class=\"dataframe\">\n",
       "  <thead>\n",
       "    <tr style=\"text-align: right;\">\n",
       "      <th></th>\n",
       "      <th>seat</th>\n",
       "      <th>cargo</th>\n",
       "      <th>eng</th>\n",
       "      <th>price_numeric</th>\n",
       "    </tr>\n",
       "  </thead>\n",
       "  <tbody>\n",
       "    <tr>\n",
       "      <th>0</th>\n",
       "      <td>6</td>\n",
       "      <td>2ft</td>\n",
       "      <td>gas</td>\n",
       "      <td>35</td>\n",
       "    </tr>\n",
       "    <tr>\n",
       "      <th>1</th>\n",
       "      <td>6</td>\n",
       "      <td>2ft</td>\n",
       "      <td>gas</td>\n",
       "      <td>30</td>\n",
       "    </tr>\n",
       "    <tr>\n",
       "      <th>2</th>\n",
       "      <td>6</td>\n",
       "      <td>2ft</td>\n",
       "      <td>gas</td>\n",
       "      <td>40</td>\n",
       "    </tr>\n",
       "    <tr>\n",
       "      <th>3</th>\n",
       "      <td>6</td>\n",
       "      <td>2ft</td>\n",
       "      <td>hyb</td>\n",
       "      <td>35</td>\n",
       "    </tr>\n",
       "    <tr>\n",
       "      <th>4</th>\n",
       "      <td>6</td>\n",
       "      <td>2ft</td>\n",
       "      <td>hyb</td>\n",
       "      <td>30</td>\n",
       "    </tr>\n",
       "  </tbody>\n",
       "</table>\n",
       "</div>"
      ],
      "text/plain": [
       "   seat cargo  eng  price_numeric\n",
       "0     6   2ft  gas             35\n",
       "1     6   2ft  gas             30\n",
       "2     6   2ft  gas             40\n",
       "3     6   2ft  hyb             35\n",
       "4     6   2ft  hyb             30"
      ]
     },
     "execution_count": 16,
     "metadata": {},
     "output_type": "execute_result"
    }
   ],
   "source": [
    "import itertools\n",
    "\n",
    "# Assuming 'data' is your DataFrame\n",
    "columns = ['seat', 'cargo', 'eng', 'price_numeric']\n",
    "\n",
    "# Get all combinations of the values in the columns\n",
    "combinations = list(itertools.product(*[data[col].unique() for col in columns]))\n",
    "\n",
    "# Print each combination\n",
    "combinations_df = pd.DataFrame(combinations, columns=columns)\n",
    "combinations_df.head()"
   ]
  },
  {
   "cell_type": "code",
   "execution_count": 18,
   "metadata": {},
   "outputs": [],
   "source": [
    "base_data = combinations_df.iloc[0, :]\n",
    "competitor_data = combinations_df.iloc[10:20, :]\n",
    "\n",
    "base_data_df = pd.DataFrame([base_data], columns=data.columns)\n",
    "competitor_data_df = pd.DataFrame(competitor_data, columns=data.columns)"
   ]
  },
  {
   "cell_type": "code",
   "execution_count": 47,
   "metadata": {},
   "outputs": [
    {
     "data": {
      "text/plain": [
       "[-0.27730939545990185,\n",
       " 0.08802201108042829,\n",
       " 0.07953377886111435,\n",
       " -0.1167298439363526,\n",
       " 0.2510718633714466,\n",
       " 0.2282490221864092,\n",
       " 0.0498415235995916,\n",
       " 0.3523087949885766,\n",
       " 0.07252795576189297,\n",
       " -0.12359183601475343]"
      ]
     },
     "execution_count": 47,
     "metadata": {},
     "output_type": "execute_result"
    }
   ],
   "source": [
    "# Use the DataFrame for prediction\n",
    "base_share = m2.predict(base_data_df)[0]\n",
    "competitor_shares = m2.predict(competitor_data_df)[0]\n",
    "\n",
    "share = []\n",
    "for i in competitor_shares.index:\n",
    "    share.append(competitor_shares[i] - base_share[0])\n",
    "\n",
    "share"
   ]
  },
  {
   "cell_type": "code",
   "execution_count": 48,
   "metadata": {},
   "outputs": [],
   "source": [
    "prediction = m2.predict(base_data_df)"
   ]
  },
  {
   "cell_type": "code",
   "execution_count": null,
   "metadata": {},
   "outputs": [],
   "source": []
  }
 ],
 "metadata": {
  "kernelspec": {
   "display_name": "book-mkt-analytics",
   "language": "python",
   "name": "python3"
  },
  "language_info": {
   "codemirror_mode": {
    "name": "ipython",
    "version": 3
   },
   "file_extension": ".py",
   "mimetype": "text/x-python",
   "name": "python",
   "nbconvert_exporter": "python",
   "pygments_lexer": "ipython3",
   "version": "3.11.3"
  }
 },
 "nbformat": 4,
 "nbformat_minor": 2
}
